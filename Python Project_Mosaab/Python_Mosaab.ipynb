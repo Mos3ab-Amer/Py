{
 "cells": [
  {
   "cell_type": "code",
   "execution_count": 4,
   "id": "add190e8",
   "metadata": {},
   "outputs": [],
   "source": [
    "import re\n",
    "import csv\n",
    "import re\n",
    "import pandas as pd"
   ]
  },
  {
   "cell_type": "code",
   "execution_count": 5,
   "id": "207a3808",
   "metadata": {},
   "outputs": [],
   "source": [
    "class EmployeeManager:\n",
    "    def __init__(self, csv_path= r\"D:\\Depi_Amit\\Python Project_Mosaab\\employees.csv\"):\n",
    "        self.csv_path= csv_path\n",
    "        self.fieldnames = [\"id\", \"name\", \"position\", \"salary\", \"email\"]\n",
    "        self.employees = {}\n",
    "#        self.name = self.get_name(name)\n",
    "        \n",
    "        \n",
    "    def save_employees_from_csv(self):\n",
    "        with open(self.csv_path, \"w\", newline=\"\", encoding=\"utf-8\") as f:\n",
    "            w = csv.DictWriter(f, fieldnames=self.fieldnames)\n",
    "            w.writeheader()\n",
    "            w.writerows(self.employees.values())    \n",
    "        \n",
    "    def load_employees_from_csv(self):\n",
    "        df = pd.read_csv(\"D:\\Depi_Amit\\Python Project_Mosaab\\employees.csv\")\n",
    "        print(df)\n",
    "        \n",
    "    \n",
    "    # ID\n",
    "    def get_unique_id(self):\n",
    "        while True:\n",
    "            emp_id= input(\"ID: \").strip()\n",
    "            if not emp_id:\n",
    "                print(\" Employee ID cannot be empty.\")\n",
    "                continue\n",
    "            if emp_id in self.employees:\n",
    "                print(f\" ID '{emp_id}' already exists, try again.\")\n",
    "                continue\n",
    "            return emp_id\n",
    "    \n",
    "    #name\n",
    "    def get_name(self,name=None):\n",
    "        if name is None:\n",
    "            name= input(\"Name: \").strip()\n",
    "        while True:\n",
    "            if not name:\n",
    "                print(\"Name cannot be empty\")\n",
    "                continue\n",
    "            return name\n",
    "    \n",
    "    #position\n",
    "    def get_position(self):\n",
    "        while True:\n",
    "            position= input(\"Position: \").strip()\n",
    "            if not position:\n",
    "                print(\" Position cannot be empty.\")\n",
    "                continue\n",
    "            return position\n",
    "    \n",
    "    #salary\n",
    "    def get_salary(self):\n",
    "        while True:\n",
    "            try:\n",
    "                salary= float(input(\"Salary: \").strip().replace(\",\",\"\"))\n",
    "                if salary <= 0:\n",
    "                    print(\" Salary must be positive\")\n",
    "                    continue\n",
    "                return salary\n",
    "            except ValueError:\n",
    "                print(\" Salary must be a (+ve) number\")\n",
    "    \n",
    "    # email\n",
    "    def get_email(self):\n",
    "    \n",
    "        local_part= re.sub(r\"\\s+\", \"[._]?\", EmployeeManager.get_name(self).strip().lower())\n",
    "\n",
    "\n",
    "        email = re.compile(rf\"^{local_part}(?:[._]?\\d+)?@(gmail|hotmail|yahoo|outlook)(?:\\.com)?$\")\n",
    "\n",
    "        while True:\n",
    "            email_address= input(\"Email: \").strip().lower()\n",
    "            if not email.match(email_address):\n",
    "                print(\"invalid Email address\")\n",
    "                continue\n",
    "            return email_address\n",
    "        \n",
    "    def add_one(self):\n",
    "        print(\"Add Employee\")\n",
    "        emp_id= EmployeeManager.get_unique_id(self)\n",
    "        name= EmployeeManager.get_name(self)\n",
    "        position= EmployeeManager.get_position(self)\n",
    "        salary= EmployeeManager.get_salary(self)\n",
    "        email= EmployeeManager.get_email(self)\n",
    "        self.employees[emp_id] = {\"id\": emp_id, \"name\": name, \"position\": position, \"salary\": salary, \"email\": email}\n",
    "        print(f\"{emp_id} - {name} is added\")\n",
    "        again = input(\"Add another? (y/n): \").strip().lower()\n",
    "        \n",
    "        while again in ('y','yes'):\n",
    "            again = input(\"Add another? (y/n): \").strip().lower()\n",
    "            print(again)\n",
    "            if again in ('y','yes'):\n",
    "                EmployeeManager.add_one(self)\n",
    "            else:\n",
    "                print('Break')\n",
    "                break\n",
    "#        \n",
    "        print(\"Emp_Info:\")\n",
    "        for eid, rec in self.employees.items():\n",
    "            print(f\"- {eid}: {rec['name']} | {rec['position']} | {rec['salary']} | {rec['email']}\")\n",
    "\n",
    "        \n",
    "    def update_one(self):\n",
    "        if not self.employees:\n",
    "            print(\"No employees yet\")\n",
    "            return\n",
    "\n",
    "        print(\"Update Employee\")\n",
    "\n",
    "        while True:\n",
    "            eid= input(\"Existing ID to update: \").strip()\n",
    "            rec= self.employees.get(eid)\n",
    "            if rec is not None :\n",
    "                break\n",
    "            print(\"Not found!\")\n",
    "            print(self.employees)\n",
    "            continue\n",
    "\n",
    "        name= EmployeeManager.get_name(self)\n",
    "        position= EmployeeManager.get_position(self)\n",
    "        salary= EmployeeManager.get_salary(self)\n",
    "        email= EmployeeManager.get_email(self)\n",
    "\n",
    "        # Update\n",
    "        self.employees[eid] = {\n",
    "            \"id\": eid,\n",
    "            \"name\": name,\n",
    "            \"position\": position,\n",
    "            \"salary\": salary,\n",
    "            \"email\": email,\n",
    "        }\n",
    "        print(\"Updated\")\n",
    "    \n",
    "    def delete_one(self):\n",
    "        if not self.employees:\n",
    "            print(\"No employees yet\")\n",
    "            return\n",
    "\n",
    "        print(\"Delete Employee\")\n",
    "\n",
    "        while True:\n",
    "            eid = input(\"Existing ID to delete: \").strip()\n",
    "            rec = self.employees.get(eid)\n",
    "            if rec is not None:\n",
    "                break\n",
    "            print(\"Not found!\")\n",
    "            print(self.employees)\n",
    "            continue\n",
    "\n",
    "        del self.employees[eid]\n",
    "        print(\"Deleted\")\n",
    "        \n",
    "    def search_one(self):\n",
    "        if not self.employees:\n",
    "            print(\"No employees yet\")\n",
    "            return\n",
    "\n",
    "        print(\"Search Employee\")\n",
    "\n",
    "        while True:\n",
    "            eid = input(\"Existing ID to search: \").strip()\n",
    "            rec = self.employees.get(eid)\n",
    "            if rec is not None:\n",
    "                break\n",
    "            print(\"Not found!\")\n",
    "            print(self.employees)  \n",
    "            continue\n",
    "\n",
    "        print(f\"Found:- ID: {eid}: {rec['name']} | {rec['position']} | {rec['salary']} | {rec['email']}\")\n",
    "        \n",
    "    def list_employees(self):\n",
    "        if not self.employees:\n",
    "            print(\"No employees yet\")\n",
    "            return\n",
    "\n",
    "        print(\"Emp_Info:\")\n",
    "        for eid, rec in self.employees.items():\n",
    "            print(self.employees)\n",
    "            \n",
    "            \n",
    "emp1 = EmployeeManager(r\"D:\\Depi_Amit\\Python Project_Mosaab\\employees.csv\")            "
   ]
  },
  {
   "cell_type": "code",
   "execution_count": 244,
   "id": "f0235663",
   "metadata": {
    "scrolled": false
   },
   "outputs": [
    {
     "name": "stdout",
     "output_type": "stream",
     "text": [
      "Add Employee\n",
      "ID: 8645\n",
      "Name: jndf\n",
      "Position: sdhb\n",
      "Salary: 5+6\n",
      " Salary must be a (+ve) number\n",
      "Salary: +95\n",
      "Name: jndf\n",
      "Email: jndf@gmail.com\n",
      "8645 - jndf is added\n",
      "Add another? (y/n): n\n",
      "Emp_Info:\n",
      "- 8645: jndf | sdhb | 95.0 | jndf@gmail.com\n"
     ]
    }
   ],
   "source": [
    "emp1.add_one()"
   ]
  },
  {
   "cell_type": "code",
   "execution_count": 246,
   "id": "e1d3710a",
   "metadata": {
    "scrolled": false
   },
   "outputs": [
    {
     "name": "stdout",
     "output_type": "stream",
     "text": [
      "Name: iyb\n",
      "Email: iyb@gmail.com\n"
     ]
    },
    {
     "data": {
      "text/plain": [
       "'iyb@gmail.com'"
      ]
     },
     "execution_count": 246,
     "metadata": {},
     "output_type": "execute_result"
    }
   ],
   "source": [
    "emp1.get_email()"
   ]
  },
  {
   "cell_type": "code",
   "execution_count": 122,
   "id": "b3c9e58f",
   "metadata": {},
   "outputs": [
    {
     "name": "stdout",
     "output_type": "stream",
     "text": [
      "   id   name position  salary            email\n",
      "0  25  mosab       it    54.0  mosab@gmail.com\n"
     ]
    }
   ],
   "source": [
    "emp1.load_employees_from_csv()"
   ]
  },
  {
   "cell_type": "code",
   "execution_count": 247,
   "id": "85738a7d",
   "metadata": {},
   "outputs": [
    {
     "name": "stdout",
     "output_type": "stream",
     "text": [
      "Position: iysefn\n"
     ]
    },
    {
     "data": {
      "text/plain": [
       "'iysefn'"
      ]
     },
     "execution_count": 247,
     "metadata": {},
     "output_type": "execute_result"
    }
   ],
   "source": [
    "emp1.get_position()"
   ]
  },
  {
   "cell_type": "code",
   "execution_count": 94,
   "id": "ac0721d1",
   "metadata": {},
   "outputs": [
    {
     "name": "stdout",
     "output_type": "stream",
     "text": [
      "Salary: 152\n"
     ]
    },
    {
     "data": {
      "text/plain": [
       "152.0"
      ]
     },
     "execution_count": 94,
     "metadata": {},
     "output_type": "execute_result"
    }
   ],
   "source": [
    "emp1.get_salary()"
   ]
  },
  {
   "cell_type": "code",
   "execution_count": 7,
   "id": "68dcac72",
   "metadata": {},
   "outputs": [
    {
     "name": "stdout",
     "output_type": "stream",
     "text": [
      "Add Employee\n",
      "ID: 864\n",
      " ID '864' already exists, try again.\n",
      "ID: 846\n",
      "Name: mosa\n",
      "Position: yjhbk\n",
      "Salary: 486\n",
      "Name: mosa\n",
      "Email: mosa11@gmail.com\n",
      "846 - mosa is added\n",
      "Add another? (y/n): y\n",
      "Add another? (y/n): y\n",
      "y\n",
      "Add Employee\n",
      "ID: 6841\n",
      "Name: osama\n",
      "Position: ucj\n",
      "Salary: 856\n",
      "Name: osama\n",
      "Email: osama11@gmail.com\n",
      "6841 - osama is added\n",
      "Add another? (y/n): n\n",
      "Emp_Info:\n",
      "- 864: mosa | unj | 451.0 | mosa1@gmail.com\n",
      "- 846: mosa | yjhbk | 486.0 | mosa11@gmail.com\n",
      "- 6841: osama | ucj | 856.0 | osama11@gmail.com\n",
      "Add another? (y/n): n\n",
      "n\n",
      "Break\n",
      "Emp_Info:\n",
      "- 864: mosa | unj | 451.0 | mosa1@gmail.com\n",
      "- 846: mosa | yjhbk | 486.0 | mosa11@gmail.com\n",
      "- 6841: osama | ucj | 856.0 | osama11@gmail.com\n"
     ]
    }
   ],
   "source": [
    "emp1.add_one()"
   ]
  },
  {
   "cell_type": "code",
   "execution_count": 8,
   "id": "33e374c0",
   "metadata": {},
   "outputs": [
    {
     "name": "stdout",
     "output_type": "stream",
     "text": [
      "Delete Employee\n",
      "Existing ID to delete: 852\n",
      "Not found!\n",
      "{'864': {'id': '864', 'name': 'mosa', 'position': 'unj', 'salary': 451.0, 'email': 'mosa1@gmail.com'}, '846': {'id': '846', 'name': 'mosa', 'position': 'yjhbk', 'salary': 486.0, 'email': 'mosa11@gmail.com'}, '6841': {'id': '6841', 'name': 'osama', 'position': 'ucj', 'salary': 856.0, 'email': 'osama11@gmail.com'}}\n",
      "Existing ID to delete: 864\n",
      "Deleted\n"
     ]
    }
   ],
   "source": [
    "emp1.delete_one()"
   ]
  },
  {
   "cell_type": "code",
   "execution_count": 9,
   "id": "ae226db0",
   "metadata": {},
   "outputs": [
    {
     "name": "stdout",
     "output_type": "stream",
     "text": [
      "Search Employee\n",
      "Existing ID to search: 652\n",
      "Not found!\n",
      "{'846': {'id': '846', 'name': 'mosa', 'position': 'yjhbk', 'salary': 486.0, 'email': 'mosa11@gmail.com'}, '6841': {'id': '6841', 'name': 'osama', 'position': 'ucj', 'salary': 856.0, 'email': 'osama11@gmail.com'}}\n",
      "Existing ID to search: 846\n",
      "Found:- ID: 846: mosa | yjhbk | 486.0 | mosa11@gmail.com\n"
     ]
    }
   ],
   "source": [
    "emp1.search_one()"
   ]
  },
  {
   "cell_type": "code",
   "execution_count": 10,
   "id": "a91a2e44",
   "metadata": {
    "scrolled": true
   },
   "outputs": [
    {
     "name": "stdout",
     "output_type": "stream",
     "text": [
      "Emp_Info:\n",
      "{'846': {'id': '846', 'name': 'mosa', 'position': 'yjhbk', 'salary': 486.0, 'email': 'mosa11@gmail.com'}, '6841': {'id': '6841', 'name': 'osama', 'position': 'ucj', 'salary': 856.0, 'email': 'osama11@gmail.com'}}\n",
      "{'846': {'id': '846', 'name': 'mosa', 'position': 'yjhbk', 'salary': 486.0, 'email': 'mosa11@gmail.com'}, '6841': {'id': '6841', 'name': 'osama', 'position': 'ucj', 'salary': 856.0, 'email': 'osama11@gmail.com'}}\n"
     ]
    }
   ],
   "source": [
    "emp1.list_employees()"
   ]
  },
  {
   "cell_type": "code",
   "execution_count": 169,
   "id": "1ad6ec2f",
   "metadata": {
    "scrolled": false
   },
   "outputs": [
    {
     "data": {
      "text/plain": [
       "'mosab'"
      ]
     },
     "execution_count": 169,
     "metadata": {},
     "output_type": "execute_result"
    }
   ],
   "source": [
    "emp = {'id': '9', 'name': 'mosab', 'position': 'da', 'salary': 77.0, 'email': 'mosab@gmail.com'}\n",
    "list(emp.values())[1]"
   ]
  },
  {
   "cell_type": "code",
   "execution_count": 11,
   "id": "bc187789",
   "metadata": {},
   "outputs": [],
   "source": [
    "emp1.save_employees_from_csv()"
   ]
  },
  {
   "cell_type": "code",
   "execution_count": null,
   "id": "c6db7ac4",
   "metadata": {},
   "outputs": [],
   "source": []
  }
 ],
 "metadata": {
  "kernelspec": {
   "display_name": "Python 3 (ipykernel)",
   "language": "python",
   "name": "python3"
  },
  "language_info": {
   "codemirror_mode": {
    "name": "ipython",
    "version": 3
   },
   "file_extension": ".py",
   "mimetype": "text/x-python",
   "name": "python",
   "nbconvert_exporter": "python",
   "pygments_lexer": "ipython3",
   "version": "3.9.13"
  }
 },
 "nbformat": 4,
 "nbformat_minor": 5
}
